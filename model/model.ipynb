{
 "cells": [
  {
   "cell_type": "code",
   "execution_count": 2,
   "metadata": {},
   "outputs": [],
   "source": [
    "import numpy as np\n",
    "import tensorflow as tf\n",
    "import pandas as pd\n",
    "import matplotlib.pyplot as plt\n",
    "from utils import (\n",
    "    ESP32CSIMultiTaskModel,\n",
    "    train_esp32_multitask_model,\n",
    "    plot_training_results,\n",
    "    visualize_predictions,\n",
    "    preprocess_esp32_csi,\n",
    ")"
   ]
  },
  {
   "cell_type": "code",
   "execution_count": 4,
   "metadata": {},
   "outputs": [],
   "source": [
    "# # load data\n",
    "# dataNoPresence = ...  # Your data loading code\n",
    "# labelNoPresence = np.zeros(len(dataNoPresence))\n",
    "# dataPresence = ...    # Your data loading code\n",
    "# labelPresence = np.ones(len(dataPresence))\n",
    "\n",
    "\n",
    "# # Loading from CSV files\n",
    "# dataNoPresence = np.loadtxt('empty_room_csi.csv', delimiter=',')\n",
    "# dataPresence = np.loadtxt('person_present_csi.csv', delimiter=',')"
   ]
  },
  {
   "cell_type": "code",
   "execution_count": 19,
   "metadata": {},
   "outputs": [
    {
     "ename": "NameError",
     "evalue": "name 'dataPresence' is not defined",
     "output_type": "error",
     "traceback": [
      "\u001b[0;31m---------------------------------------------------------------------------\u001b[0m",
      "\u001b[0;31mNameError\u001b[0m                                 Traceback (most recent call last)",
      "Cell \u001b[0;32mIn[19], line 2\u001b[0m\n\u001b[1;32m      1\u001b[0m \u001b[38;5;66;03m# prepare data\u001b[39;00m\n\u001b[0;32m----> 2\u001b[0m csi_data \u001b[38;5;241m=\u001b[39m np\u001b[38;5;241m.\u001b[39mconcatenate([dataNoPresence, dataPresence])\n\u001b[1;32m      3\u001b[0m labels \u001b[38;5;241m=\u001b[39m np\u001b[38;5;241m.\u001b[39mconcatenate([labelNoPresence, labelPresence])\n",
      "\u001b[0;31mNameError\u001b[0m: name 'dataPresence' is not defined"
     ]
    }
   ],
   "source": [
    "# prepare data\n",
    "csi_data = np.concatenate([dataNoPresence, dataPresence])\n",
    "labels = np.concatenate([labelNoPresence, labelPresence])"
   ]
  },
  {
   "cell_type": "code",
   "execution_count": 21,
   "metadata": {},
   "outputs": [
    {
     "ename": "NameError",
     "evalue": "name 'csi_data' is not defined",
     "output_type": "error",
     "traceback": [
      "\u001b[0;31m---------------------------------------------------------------------------\u001b[0m",
      "\u001b[0;31mNameError\u001b[0m                                 Traceback (most recent call last)",
      "Cell \u001b[0;32mIn[21], line 3\u001b[0m\n\u001b[1;32m      1\u001b[0m \u001b[38;5;66;03m# train model\u001b[39;00m\n\u001b[1;32m      2\u001b[0m model, history \u001b[38;5;241m=\u001b[39m train_esp32_model(\n\u001b[0;32m----> 3\u001b[0m     csi_data\u001b[38;5;241m=\u001b[39mcsi_data,\n\u001b[1;32m      4\u001b[0m     labels\u001b[38;5;241m=\u001b[39mlabels,\n\u001b[1;32m      5\u001b[0m     input_shape\u001b[38;5;241m=\u001b[39m(\u001b[38;5;241m30\u001b[39m, \u001b[38;5;241m6\u001b[39m),\n\u001b[1;32m      6\u001b[0m     epochs\u001b[38;5;241m=\u001b[39m\u001b[38;5;241m10\u001b[39m,\n\u001b[1;32m      7\u001b[0m     batch_size\u001b[38;5;241m=\u001b[39m\u001b[38;5;241m8\u001b[39m\n\u001b[1;32m      8\u001b[0m )\n",
      "\u001b[0;31mNameError\u001b[0m: name 'csi_data' is not defined"
     ]
    }
   ],
   "source": [
    "# train model\n",
    "model, history = train_esp32_multitask_model(\n",
    "    csv_file='your_csi_data.csv',\n",
    "    input_shape=(30, 50),\n",
    "    epochs=10,\n",
    "    batch_size=8\n",
    ")"
   ]
  },
  {
   "cell_type": "code",
   "execution_count": null,
   "metadata": {},
   "outputs": [],
   "source": [
    "# visualize data\n",
    "plot_training_results(history)"
   ]
  },
  {
   "cell_type": "code",
   "execution_count": null,
   "metadata": {},
   "outputs": [],
   "source": [
    "# SAVE WEIGHTS\n",
    "model.model.save('esp32_csi_multitask_model.h5')"
   ]
  }
 ],
 "metadata": {
  "kernelspec": {
   "display_name": "gpu kernel",
   "language": "python",
   "name": "gpu_kernel"
  },
  "language_info": {
   "codemirror_mode": {
    "name": "ipython",
    "version": 3
   },
   "file_extension": ".py",
   "mimetype": "text/x-python",
   "name": "python",
   "nbconvert_exporter": "python",
   "pygments_lexer": "ipython3",
   "version": "3.12.7"
  }
 },
 "nbformat": 4,
 "nbformat_minor": 4
}
